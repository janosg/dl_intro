{
 "cells": [
  {
   "cell_type": "markdown",
   "id": "d1ab34d3",
   "metadata": {},
   "source": [
    "# Exercise 1 (solution)\n",
    "\n",
    "Some text "
   ]
  },
  {
   "cell_type": "markdown",
   "id": "d3f6a39c",
   "metadata": {},
   "source": [
    "## Task 1: Programming task \n",
    "\n",
    "Define a variable a that is equal to 3"
   ]
  },
  {
   "cell_type": "code",
   "execution_count": 1,
   "id": "967a22f1",
   "metadata": {},
   "outputs": [],
   "source": [
    "a = 3"
   ]
  },
  {
   "cell_type": "markdown",
   "id": "f0b790aa",
   "metadata": {},
   "source": [
    "## Task 2: Writing task\n",
    "\n",
    "Write down the letters from a to c in a bullet list"
   ]
  },
  {
   "cell_type": "markdown",
   "id": "316eebc1",
   "metadata": {},
   "source": [
    "\n",
    "- a\n",
    "- b\n",
    "- c"
   ]
  },
  {
   "cell_type": "code",
   "execution_count": null,
   "id": "beb7fe94",
   "metadata": {},
   "outputs": [],
   "source": []
  }
 ],
 "metadata": {
  "kernelspec": {
   "display_name": "Python 3 (ipykernel)",
   "language": "python",
   "name": "python3"
  },
  "language_info": {
   "codemirror_mode": {
    "name": "ipython",
    "version": 3
   },
   "file_extension": ".py",
   "mimetype": "text/x-python",
   "name": "python",
   "nbconvert_exporter": "python",
   "pygments_lexer": "ipython3",
   "version": "3.11.0"
  }
 },
 "nbformat": 4,
 "nbformat_minor": 5
}
