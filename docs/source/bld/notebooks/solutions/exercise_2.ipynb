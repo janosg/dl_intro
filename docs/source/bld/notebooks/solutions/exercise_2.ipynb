{
 "cells": [
  {
   "cell_type": "markdown",
   "id": "7f7cc2ae",
   "metadata": {},
   "source": [
    "# Exercise 2 (solution)"
   ]
  },
  {
   "cell_type": "code",
   "execution_count": null,
   "id": "3a69d462",
   "metadata": {},
   "outputs": [],
   "source": [
    "import numpy as np\n",
    "import pandas as pd\n",
    "from pathlib import Path\n",
    "from seaborn import load_dataset"
   ]
  },
  {
   "cell_type": "markdown",
   "id": "53af564b",
   "metadata": {},
   "source": [
    "## Task 1: List and dict comprehensions\n",
    "\n",
    "Assume that we have a dictionary that stores some quality measures for models of different sizes:"
   ]
  },
  {
   "cell_type": "code",
   "execution_count": null,
   "id": "e504e675",
   "metadata": {},
   "outputs": [],
   "source": [
    "results = {\n",
    "    \"large\": {\"acc\": 0.9, \"f1\": 0.85},\n",
    "    \"medium\": {\"acc\": 0.83, \"f1\": 0.87},\n",
    "    \"small\": {\"acc\": 0.7, \"f1\": 0.5},\n",
    "}"
   ]
  },
  {
   "cell_type": "markdown",
   "id": "96d2298e",
   "metadata": {},
   "source": [
    "Create a variable called `acc` that maps the models to accurracy. "
   ]
  },
  {
   "cell_type": "code",
   "execution_count": null,
   "id": "84ae389e",
   "metadata": {},
   "outputs": [],
   "source": [
    "acc = {name: info[\"acc\"] for name, info in results.items()}\n",
    "acc"
   ]
  },
  {
   "cell_type": "markdown",
   "id": "2d03a7d9",
   "metadata": {},
   "source": [
    "Filter the results dictionary such that only the information for models with an accurracy over 0.8 is kept."
   ]
  },
  {
   "cell_type": "code",
   "execution_count": null,
   "id": "45656fda",
   "metadata": {},
   "outputs": [],
   "source": [
    "best = {name: info for name, info in results.items() if info[\"acc\"] >= 0.8}\n",
    "best"
   ]
  },
  {
   "cell_type": "markdown",
   "id": "db4bf62e",
   "metadata": {},
   "source": [
    "## Task 2: Create numpy arrays\n",
    "\n",
    "Create the following arrays:\n",
    "\n",
    "1. A three-dimensional array of shape `(2, 3, 4)` containing zeros\n",
    "2. A two-dimensional array with 3 rows and 4 columns that contain that is equivalent to the list `[[0.1, 0.2, 0.3, 0.4, 0.5], [0.6, 0.7, 0.8, 0.9, 1. ]]`. Do not just type in the numbers.\n",
    "3. Create a 3 x 3 identity matrix\n",
    "4. Create a 3 x 4 empty array (using `np.empty`) and compare it's entries with the ones your neighbor gets. "
   ]
  },
  {
   "cell_type": "code",
   "execution_count": null,
   "id": "b11856b3",
   "metadata": {},
   "outputs": [],
   "source": [
    "np.zeros((2, 3, 4))"
   ]
  },
  {
   "cell_type": "code",
   "execution_count": null,
   "id": "00487960",
   "metadata": {},
   "outputs": [],
   "source": [
    "np.linspace(0.1, 1, 10).reshape(2, 5)"
   ]
  },
  {
   "cell_type": "code",
   "execution_count": null,
   "id": "e641fdb1",
   "metadata": {},
   "outputs": [],
   "source": [
    "np.eye(3)"
   ]
  },
  {
   "cell_type": "code",
   "execution_count": null,
   "id": "46b9373e",
   "metadata": {},
   "outputs": [],
   "source": [
    "np.empty((3, 3))"
   ]
  },
  {
   "cell_type": "markdown",
   "id": "10d5492e",
   "metadata": {},
   "source": [
    "## Task 3: Numpy indexing\n",
    "\n",
    "Through the entire task, work with the arrays a and b from the lecture slides"
   ]
  },
  {
   "cell_type": "code",
   "execution_count": null,
   "id": "a2d0cbb3",
   "metadata": {},
   "outputs": [],
   "source": [
    "a = np.arange(5)\n",
    "b = np.arange(12).reshape(4, 3)"
   ]
  },
  {
   "cell_type": "markdown",
   "id": "73465868",
   "metadata": {},
   "source": [
    "Select the middle element of a"
   ]
  },
  {
   "cell_type": "code",
   "execution_count": null,
   "id": "f391d959",
   "metadata": {},
   "outputs": [],
   "source": [
    "a[2]"
   ]
  },
  {
   "cell_type": "markdown",
   "id": "d027fce8",
   "metadata": {},
   "source": [
    "Select all of a (but you need to put something into the square brackets)"
   ]
  },
  {
   "cell_type": "code",
   "execution_count": null,
   "id": "5986e68c",
   "metadata": {},
   "outputs": [],
   "source": [
    "a[:]"
   ]
  },
  {
   "cell_type": "markdown",
   "id": "2683593c",
   "metadata": {},
   "source": [
    "Select the last two rows of b"
   ]
  },
  {
   "cell_type": "code",
   "execution_count": null,
   "id": "1f65edd9",
   "metadata": {},
   "outputs": [],
   "source": [
    "b[2:]"
   ]
  },
  {
   "cell_type": "markdown",
   "id": "953af6f0",
   "metadata": {},
   "source": [
    "Select the last two columns of b"
   ]
  },
  {
   "cell_type": "code",
   "execution_count": null,
   "id": "18a1316c",
   "metadata": {},
   "outputs": [],
   "source": [
    "b[:, 1:]"
   ]
  },
  {
   "cell_type": "markdown",
   "id": "3c133b2c",
   "metadata": {},
   "source": [
    "Select the last two columns of the last two rows of b"
   ]
  },
  {
   "cell_type": "code",
   "execution_count": null,
   "id": "23567324",
   "metadata": {},
   "outputs": [],
   "source": [
    "b[2:, 1:]"
   ]
  },
  {
   "cell_type": "markdown",
   "id": "41153606",
   "metadata": {},
   "source": [
    "## Task 4: Numpy calculations"
   ]
  },
  {
   "cell_type": "code",
   "execution_count": null,
   "id": "c43a47be",
   "metadata": {},
   "outputs": [],
   "source": [
    "x = np.array([[0.5, 1.5], [2.5, 3.5]])\n",
    "y = np.diag([2, 3])\n",
    "z = np.array([2, 3])"
   ]
  },
  {
   "cell_type": "markdown",
   "id": "2da61b4e",
   "metadata": {},
   "source": [
    "Do the following calculations with the arrays x, y, z\n",
    "\n",
    "1. Do a matrix multiplication of the two arrays x and y\n",
    "2. Do an elementwise multiplication of the matrices x and y\n",
    "3. Do an elementwise addition x and z\n",
    "4. Do an elementwise addition of x and `z.reshape(-1, 1)`\n",
    "5. Describe the difference between the last two tasks.\n",
    "6. Take the exponent of the array z\n",
    "7. Sum the two rows in x"
   ]
  },
  {
   "cell_type": "code",
   "execution_count": null,
   "id": "349654e9",
   "metadata": {},
   "outputs": [],
   "source": [
    "x @ y"
   ]
  },
  {
   "cell_type": "code",
   "execution_count": null,
   "id": "89ff38f4",
   "metadata": {},
   "outputs": [],
   "source": [
    "x * y"
   ]
  },
  {
   "cell_type": "code",
   "execution_count": null,
   "id": "d259b8a3",
   "metadata": {},
   "outputs": [],
   "source": [
    "x + z"
   ]
  },
  {
   "cell_type": "code",
   "execution_count": null,
   "id": "afe0b470",
   "metadata": {},
   "outputs": [],
   "source": [
    "x + z.reshape(-1, 1)"
   ]
  },
  {
   "cell_type": "markdown",
   "id": "6c0b5e65",
   "metadata": {},
   "source": [
    "Adding z to x without reshaping, adds z to each row of x\n",
    "Adding z to x with reshaping, adds z to each column of x\n",
    "The way this works is governed by the [broadcasting rule](https://numpy.org/doc/stable/user/basics.broadcasting.html). We won't go into detail for now."
   ]
  },
  {
   "cell_type": "code",
   "execution_count": null,
   "id": "a613d536",
   "metadata": {},
   "outputs": [],
   "source": [
    "np.exp(z)"
   ]
  },
  {
   "cell_type": "code",
   "execution_count": null,
   "id": "02a330b6",
   "metadata": {},
   "outputs": [],
   "source": [
    "x.sum(axis=0)"
   ]
  },
  {
   "cell_type": "markdown",
   "id": "13727aa1",
   "metadata": {},
   "source": [
    "## Task 5: File paths"
   ]
  },
  {
   "cell_type": "markdown",
   "id": "ee6c51f3",
   "metadata": {},
   "source": [
    "Define a path called `ROOT` that leads to the directory in which you store all materials for this course. Define the path relative to this notebook and then convert it to an absolute path. Note: The solution is different for everyone and depends on the directory structure you chose. "
   ]
  },
  {
   "cell_type": "code",
   "execution_count": null,
   "id": "037fa6b9",
   "metadata": {},
   "outputs": [],
   "source": [
    "ROOT = Path().parent.resolve()\n",
    "ROOT"
   ]
  },
  {
   "cell_type": "markdown",
   "id": "87102797",
   "metadata": {},
   "source": [
    "Define a path to this notebook and use it to proof that this notebook exists"
   ]
  },
  {
   "cell_type": "code",
   "execution_count": null,
   "id": "d4a2d32c",
   "metadata": {},
   "outputs": [],
   "source": [
    "NB_PATH = Path() / \"exercise_2.ipynb\"\n",
    "NB_PATH.exists()"
   ]
  },
  {
   "cell_type": "markdown",
   "id": "e375875d",
   "metadata": {},
   "source": [
    "## Task 6: Read and save DataFrames"
   ]
  },
  {
   "cell_type": "code",
   "execution_count": null,
   "id": "f6da89fb",
   "metadata": {},
   "outputs": [],
   "source": [
    "iris = load_dataset(\"iris\")\n",
    "iris.head()"
   ]
  },
  {
   "cell_type": "markdown",
   "id": "cf50f992",
   "metadata": {},
   "source": [
    "Save this dataset in each of the file formats presented in the slides. Then re-load them into a DataFrame using the corresponding `read` function"
   ]
  },
  {
   "cell_type": "code",
   "execution_count": null,
   "id": "e45b2ee2",
   "metadata": {},
   "outputs": [],
   "source": [
    "iris.to_csv(\"iris.csv\")\n",
    "iris_csv = pd.read_csv(\"iris.csv\")\n",
    "iris.to_stata(\"iris.dta\")\n",
    "iris_dta = pd.read_stata(\"iris.dta\")\n",
    "iris.to_pickle(\"iris.pkl\")\n",
    "iris_pkl = pd.read_pickle(\"iris.pkl\")\n",
    "iris.to_parquet(\"iris.parquet\")\n",
    "iris_parquet = pd.read_parquet(\"iris.parquet\")"
   ]
  },
  {
   "cell_type": "markdown",
   "id": "96e0e64e",
   "metadata": {},
   "source": [
    "Look at the dataset you reloaded from the csv file. What do you see? "
   ]
  },
  {
   "cell_type": "markdown",
   "id": "eb72f696",
   "metadata": {},
   "source": [
    "The index became an additional column. This can be fixed by using more arguments when reading and saving csv files. I just wanted you to be aware of it. "
   ]
  },
  {
   "cell_type": "markdown",
   "id": "e9d95fd8",
   "metadata": {},
   "source": [
    "## Task 7: Create Variables"
   ]
  },
  {
   "cell_type": "markdown",
   "id": "41498be2",
   "metadata": {},
   "source": [
    "Add the square and the log of each numerical variable (i.e. all but \"species\") in the dataset. Use \"NAME_squared\" and \"log_NAME\" as naming conventions. Do not type in variable lists."
   ]
  },
  {
   "cell_type": "code",
   "execution_count": null,
   "id": "483bce18",
   "metadata": {},
   "outputs": [],
   "source": [
    "raw_vars = [c for c in iris.columns if c != \"species\"]\n",
    "df = iris.copy()\n",
    "for var in raw_vars:\n",
    "    df[f\"log_{var}\"] = np.log(df[var])\n",
    "    df[f\"{var}_squared\"] = df[var] ** 2\n",
    "df"
   ]
  },
  {
   "cell_type": "markdown",
   "id": "1ee4d1b5",
   "metadata": {},
   "source": [
    "## Task 8: Select data"
   ]
  },
  {
   "cell_type": "markdown",
   "id": "c540f0ce",
   "metadata": {},
   "source": [
    "Select all rows where the species is setosa and the sepal_length is greater or equal to 5"
   ]
  },
  {
   "cell_type": "code",
   "execution_count": null,
   "id": "e8af1ebe",
   "metadata": {},
   "outputs": [],
   "source": [
    "iris.query(\"sepal_length >= 5 & species == 'setosa'\").head()"
   ]
  },
  {
   "cell_type": "markdown",
   "id": "cf63049c",
   "metadata": {},
   "source": [
    "## Task 9: Errors and Tracebacks"
   ]
  },
  {
   "cell_type": "markdown",
   "id": "5f9380f8",
   "metadata": {},
   "source": [
    "Write me a message in zulip where you describe this error"
   ]
  },
  {
   "cell_type": "code",
   "execution_count": null,
   "id": "e6ede4c0",
   "metadata": {
    "scrolled": false
   },
   "outputs": [],
   "source": [
    "df = pd.DataFrame(data=np.ones(2, 2), columns=[\"a\", \"b\"])"
   ]
  }
 ],
 "metadata": {
  "kernelspec": {
   "display_name": "Python 3 (ipykernel)",
   "language": "python",
   "name": "python3"
  },
  "language_info": {
   "codemirror_mode": {
    "name": "ipython",
    "version": 3
   },
   "file_extension": ".py",
   "mimetype": "text/x-python",
   "name": "python",
   "nbconvert_exporter": "python",
   "pygments_lexer": "ipython3",
   "version": "3.11.2"
  }
 },
 "nbformat": 4,
 "nbformat_minor": 5
}
